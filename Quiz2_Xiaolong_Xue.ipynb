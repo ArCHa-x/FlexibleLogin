{
  "nbformat": 4,
  "nbformat_minor": 0,
  "metadata": {
    "colab": {
      "provenance": [],
      "include_colab_link": true
    },
    "kernelspec": {
      "name": "python3",
      "display_name": "Python 3"
    },
    "language_info": {
      "name": "python"
    }
  },
  "cells": [
    {
      "cell_type": "markdown",
      "metadata": {
        "id": "view-in-github",
        "colab_type": "text"
      },
      "source": [
        "<a href=\"https://colab.research.google.com/github/ArCHa-x/FlexibleLogin/blob/master/Quiz2_Xiaolong_Xue.ipynb\" target=\"_parent\"><img src=\"https://colab.research.google.com/assets/colab-badge.svg\" alt=\"Open In Colab\"/></a>"
      ]
    },
    {
      "cell_type": "markdown",
      "source": [
        "# Quiz2 - 40m in class: Starting Your Logbook\n",
        "\n",
        "### Phys3130\n",
        "### Author: Dr. Elaina A. Hyde\n",
        "\n",
        "---\n",
        "\n",
        "This is an interactive class quiz, you can receive help during class on any aspect EXCEPT the answers, which must be your own words.\n",
        "\n",
        " * Step1: Load this text into a Jupyter or Colab Notebook of your choice, save a copy to your area and edit your copy to fill in the name field above. **Important: Rename your file copy of the quiz to Quiz1_yourfirstname_yourlastname.ipynb!**\n",
        "\n",
        " * Step 2: Login to GitHub and locate your personal private 3130 repo (that you used for HW1).\n",
        "\n",
        " * Step 3: Fill in the text and code cells for Q1, Q2, Q3, Q4, Q5 below\n",
        "\n",
        " * Step 4:  Here in colab, Go to 'File' and 'Save a copy in GitHub', select the your private class repo. Final uploads are allowed until 10pm Jan 24th (unless you have accomodations arranged).\n"
      ],
      "metadata": {
        "id": "BEOfseSwnrn_"
      }
    },
    {
      "cell_type": "markdown",
      "source": [
        "### Your GitHub logbook:\n",
        "A logbook can take many forms, by uploading this data description quiz into your private github area for our course you have, in effect, gotten started! For this quiz fill in the logbook entries below using your data. Future logbooks should start with a header like the one used in this notebook below:\n",
        "\n",
        "---\n",
        "\n",
        "### Logbook Phys 3130 24 Jan 2025\n",
        "---\n",
        "\n",
        "Student Name: [Xiaolong Xue]\n",
        "\n",
        "Date of upload: [24 Jan 2025]\n",
        "\n",
        "Project Description/Title: [Eagle Nebula - Hertzsprung-Russell Diagram Analysis]\n",
        "\n",
        "---"
      ],
      "metadata": {
        "id": "cGxi48Cmo4IN"
      }
    },
    {
      "cell_type": "markdown",
      "source": [
        "### Logbook Area:"
      ],
      "metadata": {
        "id": "h0sKBfwma4nh"
      }
    },
    {
      "cell_type": "markdown",
      "source": [
        "**Project Data** After much discussion, and many examples, in class you have selected data to investigate, to do a literature review on (part 1 of your project) and to use for your final part 2 project. You should give the data name, location, and reference here. To include a url you can copy this code for [The AICO Website](https://www.yorku.ca/science/observatory/)  *Enter your answer by creating a text/code cell below this question box*"
      ],
      "metadata": {
        "id": "SOusuv8eo9ZN"
      }
    },
    {
      "cell_type": "markdown",
      "source": [
        "Answer:\n",
        "* **Data Name:** *Gaia DR3 Stellar Catalog for Eagle Nebula.*\n",
        "\n",
        "* **Location:** *[GAVO Data Center](http://reg.g-vo.org/tap)*\n",
        "\n",
        "* **Reference:** *GAVO Data Center (German Astrophysical Virtual Observatory): https://www.g-vo.org/*"
      ],
      "metadata": {
        "id": "KsNNlV-5zLUs"
      }
    },
    {
      "cell_type": "markdown",
      "source": [
        "**Initial Data View** Load some (or all) of your data into this notebook. If your data has a header, load that instead. For data loading techniques, see our Wednesday notebook for this class. If none of your data can be loaded, describe in detail why, and how you plan to address this in your project.\n",
        "\n",
        "Extra Credit: create a dataframe for a section of your data\n",
        "\n",
        " *Enter your answer by creating a text/code cell below this question box*"
      ],
      "metadata": {
        "id": "2xhLuXqSpNzS"
      }
    },
    {
      "cell_type": "code",
      "source": [
        "import pandas as pd\n",
        "import numpy as np\n",
        "from google.colab import drive\n",
        "\n",
        "drive.mount('/content/drive')\n",
        "df=pd.read_csv('drive/My Drive/Eagle Nebula-Gaia DR3.CSV')\n",
        "df.head()"
      ],
      "metadata": {
        "colab": {
          "base_uri": "https://localhost:8080/",
          "height": 274
        },
        "id": "cPHrEMcp5xAW",
        "outputId": "74715f86-7a96-4d5d-a898-b53536cdda7c"
      },
      "execution_count": 2,
      "outputs": [
        {
          "output_type": "stream",
          "name": "stdout",
          "text": [
            "Mounted at /content/drive\n"
          ]
        },
        {
          "output_type": "execute_result",
          "data": {
            "text/plain": [
              "         _r            source_id          ra        dec   ra_error  dec_error  \\\n",
              "0  0.000737  4146600609995262720  274.688169 -13.791282  21.172615  21.643074   \n",
              "1  0.002101  4146600609997795584  274.688101 -13.789901   0.227443   0.211833   \n",
              "2  0.002751  4146600609995259776  274.690516 -13.793263   1.358708   1.308849   \n",
              "3  0.003037  4146600571346820992  274.686547 -13.794689   0.384687   0.384122   \n",
              "4  0.003040  4146600609997796864  274.688557 -13.789008   0.016882   0.016028   \n",
              "\n",
              "       pmra     pmdec  pmra_error  pmdec_error  ...  \\\n",
              "0       NaN       NaN         NaN          NaN  ...   \n",
              "1 -0.333078 -1.366697    0.289747     0.232043  ...   \n",
              "2 -0.493640 -1.826181    1.321659     1.177866  ...   \n",
              "3  0.012215 -1.363460    0.407607     0.364759  ...   \n",
              "4  0.171893 -1.686583    0.021870     0.017794  ...   \n",
              "\n",
              "   phot_bp_mean_flux_over_error  phot_bp_mean_mag  phot_bp_rp_excess_factor  \\\n",
              "0                      1.966121         21.313217                  1.504589   \n",
              "1                     15.270406         17.047540                  1.436049   \n",
              "2                           NaN               NaN                       NaN   \n",
              "3                      6.824688         20.201475                  1.906584   \n",
              "4                    233.402240         14.431603                  1.285499   \n",
              "\n",
              "   astrometric_excess_noise  radial_velocity  radial_velocity_error  \\\n",
              "0                  4.853109              NaN                    NaN   \n",
              "1                  2.027283              NaN                    NaN   \n",
              "2                  1.388460              NaN                    NaN   \n",
              "3                  0.746320              NaN                    NaN   \n",
              "4                  0.041496              NaN                    NaN   \n",
              "\n",
              "   pseudocolour  astrometric_params_solved  random_index      ruwe  \n",
              "0           NaN                          3     689730229       NaN  \n",
              "1           NaN                         31     970444624  6.592990  \n",
              "2      1.188740                         95     720944801  1.013670  \n",
              "3      1.209077                         95      66201016  1.034535  \n",
              "4           NaN                         31    1496158641  1.196031  \n",
              "\n",
              "[5 rows x 26 columns]"
            ],
            "text/html": [
              "\n",
              "  <div id=\"df-041d5534-f009-4378-8bbc-008477bd24a4\" class=\"colab-df-container\">\n",
              "    <div>\n",
              "<style scoped>\n",
              "    .dataframe tbody tr th:only-of-type {\n",
              "        vertical-align: middle;\n",
              "    }\n",
              "\n",
              "    .dataframe tbody tr th {\n",
              "        vertical-align: top;\n",
              "    }\n",
              "\n",
              "    .dataframe thead th {\n",
              "        text-align: right;\n",
              "    }\n",
              "</style>\n",
              "<table border=\"1\" class=\"dataframe\">\n",
              "  <thead>\n",
              "    <tr style=\"text-align: right;\">\n",
              "      <th></th>\n",
              "      <th>_r</th>\n",
              "      <th>source_id</th>\n",
              "      <th>ra</th>\n",
              "      <th>dec</th>\n",
              "      <th>ra_error</th>\n",
              "      <th>dec_error</th>\n",
              "      <th>pmra</th>\n",
              "      <th>pmdec</th>\n",
              "      <th>pmra_error</th>\n",
              "      <th>pmdec_error</th>\n",
              "      <th>...</th>\n",
              "      <th>phot_bp_mean_flux_over_error</th>\n",
              "      <th>phot_bp_mean_mag</th>\n",
              "      <th>phot_bp_rp_excess_factor</th>\n",
              "      <th>astrometric_excess_noise</th>\n",
              "      <th>radial_velocity</th>\n",
              "      <th>radial_velocity_error</th>\n",
              "      <th>pseudocolour</th>\n",
              "      <th>astrometric_params_solved</th>\n",
              "      <th>random_index</th>\n",
              "      <th>ruwe</th>\n",
              "    </tr>\n",
              "  </thead>\n",
              "  <tbody>\n",
              "    <tr>\n",
              "      <th>0</th>\n",
              "      <td>0.000737</td>\n",
              "      <td>4146600609995262720</td>\n",
              "      <td>274.688169</td>\n",
              "      <td>-13.791282</td>\n",
              "      <td>21.172615</td>\n",
              "      <td>21.643074</td>\n",
              "      <td>NaN</td>\n",
              "      <td>NaN</td>\n",
              "      <td>NaN</td>\n",
              "      <td>NaN</td>\n",
              "      <td>...</td>\n",
              "      <td>1.966121</td>\n",
              "      <td>21.313217</td>\n",
              "      <td>1.504589</td>\n",
              "      <td>4.853109</td>\n",
              "      <td>NaN</td>\n",
              "      <td>NaN</td>\n",
              "      <td>NaN</td>\n",
              "      <td>3</td>\n",
              "      <td>689730229</td>\n",
              "      <td>NaN</td>\n",
              "    </tr>\n",
              "    <tr>\n",
              "      <th>1</th>\n",
              "      <td>0.002101</td>\n",
              "      <td>4146600609997795584</td>\n",
              "      <td>274.688101</td>\n",
              "      <td>-13.789901</td>\n",
              "      <td>0.227443</td>\n",
              "      <td>0.211833</td>\n",
              "      <td>-0.333078</td>\n",
              "      <td>-1.366697</td>\n",
              "      <td>0.289747</td>\n",
              "      <td>0.232043</td>\n",
              "      <td>...</td>\n",
              "      <td>15.270406</td>\n",
              "      <td>17.047540</td>\n",
              "      <td>1.436049</td>\n",
              "      <td>2.027283</td>\n",
              "      <td>NaN</td>\n",
              "      <td>NaN</td>\n",
              "      <td>NaN</td>\n",
              "      <td>31</td>\n",
              "      <td>970444624</td>\n",
              "      <td>6.592990</td>\n",
              "    </tr>\n",
              "    <tr>\n",
              "      <th>2</th>\n",
              "      <td>0.002751</td>\n",
              "      <td>4146600609995259776</td>\n",
              "      <td>274.690516</td>\n",
              "      <td>-13.793263</td>\n",
              "      <td>1.358708</td>\n",
              "      <td>1.308849</td>\n",
              "      <td>-0.493640</td>\n",
              "      <td>-1.826181</td>\n",
              "      <td>1.321659</td>\n",
              "      <td>1.177866</td>\n",
              "      <td>...</td>\n",
              "      <td>NaN</td>\n",
              "      <td>NaN</td>\n",
              "      <td>NaN</td>\n",
              "      <td>1.388460</td>\n",
              "      <td>NaN</td>\n",
              "      <td>NaN</td>\n",
              "      <td>1.188740</td>\n",
              "      <td>95</td>\n",
              "      <td>720944801</td>\n",
              "      <td>1.013670</td>\n",
              "    </tr>\n",
              "    <tr>\n",
              "      <th>3</th>\n",
              "      <td>0.003037</td>\n",
              "      <td>4146600571346820992</td>\n",
              "      <td>274.686547</td>\n",
              "      <td>-13.794689</td>\n",
              "      <td>0.384687</td>\n",
              "      <td>0.384122</td>\n",
              "      <td>0.012215</td>\n",
              "      <td>-1.363460</td>\n",
              "      <td>0.407607</td>\n",
              "      <td>0.364759</td>\n",
              "      <td>...</td>\n",
              "      <td>6.824688</td>\n",
              "      <td>20.201475</td>\n",
              "      <td>1.906584</td>\n",
              "      <td>0.746320</td>\n",
              "      <td>NaN</td>\n",
              "      <td>NaN</td>\n",
              "      <td>1.209077</td>\n",
              "      <td>95</td>\n",
              "      <td>66201016</td>\n",
              "      <td>1.034535</td>\n",
              "    </tr>\n",
              "    <tr>\n",
              "      <th>4</th>\n",
              "      <td>0.003040</td>\n",
              "      <td>4146600609997796864</td>\n",
              "      <td>274.688557</td>\n",
              "      <td>-13.789008</td>\n",
              "      <td>0.016882</td>\n",
              "      <td>0.016028</td>\n",
              "      <td>0.171893</td>\n",
              "      <td>-1.686583</td>\n",
              "      <td>0.021870</td>\n",
              "      <td>0.017794</td>\n",
              "      <td>...</td>\n",
              "      <td>233.402240</td>\n",
              "      <td>14.431603</td>\n",
              "      <td>1.285499</td>\n",
              "      <td>0.041496</td>\n",
              "      <td>NaN</td>\n",
              "      <td>NaN</td>\n",
              "      <td>NaN</td>\n",
              "      <td>31</td>\n",
              "      <td>1496158641</td>\n",
              "      <td>1.196031</td>\n",
              "    </tr>\n",
              "  </tbody>\n",
              "</table>\n",
              "<p>5 rows × 26 columns</p>\n",
              "</div>\n",
              "    <div class=\"colab-df-buttons\">\n",
              "\n",
              "  <div class=\"colab-df-container\">\n",
              "    <button class=\"colab-df-convert\" onclick=\"convertToInteractive('df-041d5534-f009-4378-8bbc-008477bd24a4')\"\n",
              "            title=\"Convert this dataframe to an interactive table.\"\n",
              "            style=\"display:none;\">\n",
              "\n",
              "  <svg xmlns=\"http://www.w3.org/2000/svg\" height=\"24px\" viewBox=\"0 -960 960 960\">\n",
              "    <path d=\"M120-120v-720h720v720H120Zm60-500h600v-160H180v160Zm220 220h160v-160H400v160Zm0 220h160v-160H400v160ZM180-400h160v-160H180v160Zm440 0h160v-160H620v160ZM180-180h160v-160H180v160Zm440 0h160v-160H620v160Z\"/>\n",
              "  </svg>\n",
              "    </button>\n",
              "\n",
              "  <style>\n",
              "    .colab-df-container {\n",
              "      display:flex;\n",
              "      gap: 12px;\n",
              "    }\n",
              "\n",
              "    .colab-df-convert {\n",
              "      background-color: #E8F0FE;\n",
              "      border: none;\n",
              "      border-radius: 50%;\n",
              "      cursor: pointer;\n",
              "      display: none;\n",
              "      fill: #1967D2;\n",
              "      height: 32px;\n",
              "      padding: 0 0 0 0;\n",
              "      width: 32px;\n",
              "    }\n",
              "\n",
              "    .colab-df-convert:hover {\n",
              "      background-color: #E2EBFA;\n",
              "      box-shadow: 0px 1px 2px rgba(60, 64, 67, 0.3), 0px 1px 3px 1px rgba(60, 64, 67, 0.15);\n",
              "      fill: #174EA6;\n",
              "    }\n",
              "\n",
              "    .colab-df-buttons div {\n",
              "      margin-bottom: 4px;\n",
              "    }\n",
              "\n",
              "    [theme=dark] .colab-df-convert {\n",
              "      background-color: #3B4455;\n",
              "      fill: #D2E3FC;\n",
              "    }\n",
              "\n",
              "    [theme=dark] .colab-df-convert:hover {\n",
              "      background-color: #434B5C;\n",
              "      box-shadow: 0px 1px 3px 1px rgba(0, 0, 0, 0.15);\n",
              "      filter: drop-shadow(0px 1px 2px rgba(0, 0, 0, 0.3));\n",
              "      fill: #FFFFFF;\n",
              "    }\n",
              "  </style>\n",
              "\n",
              "    <script>\n",
              "      const buttonEl =\n",
              "        document.querySelector('#df-041d5534-f009-4378-8bbc-008477bd24a4 button.colab-df-convert');\n",
              "      buttonEl.style.display =\n",
              "        google.colab.kernel.accessAllowed ? 'block' : 'none';\n",
              "\n",
              "      async function convertToInteractive(key) {\n",
              "        const element = document.querySelector('#df-041d5534-f009-4378-8bbc-008477bd24a4');\n",
              "        const dataTable =\n",
              "          await google.colab.kernel.invokeFunction('convertToInteractive',\n",
              "                                                    [key], {});\n",
              "        if (!dataTable) return;\n",
              "\n",
              "        const docLinkHtml = 'Like what you see? Visit the ' +\n",
              "          '<a target=\"_blank\" href=https://colab.research.google.com/notebooks/data_table.ipynb>data table notebook</a>'\n",
              "          + ' to learn more about interactive tables.';\n",
              "        element.innerHTML = '';\n",
              "        dataTable['output_type'] = 'display_data';\n",
              "        await google.colab.output.renderOutput(dataTable, element);\n",
              "        const docLink = document.createElement('div');\n",
              "        docLink.innerHTML = docLinkHtml;\n",
              "        element.appendChild(docLink);\n",
              "      }\n",
              "    </script>\n",
              "  </div>\n",
              "\n",
              "\n",
              "<div id=\"df-638d63b0-299e-4be9-af7f-1348f1f39e0f\">\n",
              "  <button class=\"colab-df-quickchart\" onclick=\"quickchart('df-638d63b0-299e-4be9-af7f-1348f1f39e0f')\"\n",
              "            title=\"Suggest charts\"\n",
              "            style=\"display:none;\">\n",
              "\n",
              "<svg xmlns=\"http://www.w3.org/2000/svg\" height=\"24px\"viewBox=\"0 0 24 24\"\n",
              "     width=\"24px\">\n",
              "    <g>\n",
              "        <path d=\"M19 3H5c-1.1 0-2 .9-2 2v14c0 1.1.9 2 2 2h14c1.1 0 2-.9 2-2V5c0-1.1-.9-2-2-2zM9 17H7v-7h2v7zm4 0h-2V7h2v10zm4 0h-2v-4h2v4z\"/>\n",
              "    </g>\n",
              "</svg>\n",
              "  </button>\n",
              "\n",
              "<style>\n",
              "  .colab-df-quickchart {\n",
              "      --bg-color: #E8F0FE;\n",
              "      --fill-color: #1967D2;\n",
              "      --hover-bg-color: #E2EBFA;\n",
              "      --hover-fill-color: #174EA6;\n",
              "      --disabled-fill-color: #AAA;\n",
              "      --disabled-bg-color: #DDD;\n",
              "  }\n",
              "\n",
              "  [theme=dark] .colab-df-quickchart {\n",
              "      --bg-color: #3B4455;\n",
              "      --fill-color: #D2E3FC;\n",
              "      --hover-bg-color: #434B5C;\n",
              "      --hover-fill-color: #FFFFFF;\n",
              "      --disabled-bg-color: #3B4455;\n",
              "      --disabled-fill-color: #666;\n",
              "  }\n",
              "\n",
              "  .colab-df-quickchart {\n",
              "    background-color: var(--bg-color);\n",
              "    border: none;\n",
              "    border-radius: 50%;\n",
              "    cursor: pointer;\n",
              "    display: none;\n",
              "    fill: var(--fill-color);\n",
              "    height: 32px;\n",
              "    padding: 0;\n",
              "    width: 32px;\n",
              "  }\n",
              "\n",
              "  .colab-df-quickchart:hover {\n",
              "    background-color: var(--hover-bg-color);\n",
              "    box-shadow: 0 1px 2px rgba(60, 64, 67, 0.3), 0 1px 3px 1px rgba(60, 64, 67, 0.15);\n",
              "    fill: var(--button-hover-fill-color);\n",
              "  }\n",
              "\n",
              "  .colab-df-quickchart-complete:disabled,\n",
              "  .colab-df-quickchart-complete:disabled:hover {\n",
              "    background-color: var(--disabled-bg-color);\n",
              "    fill: var(--disabled-fill-color);\n",
              "    box-shadow: none;\n",
              "  }\n",
              "\n",
              "  .colab-df-spinner {\n",
              "    border: 2px solid var(--fill-color);\n",
              "    border-color: transparent;\n",
              "    border-bottom-color: var(--fill-color);\n",
              "    animation:\n",
              "      spin 1s steps(1) infinite;\n",
              "  }\n",
              "\n",
              "  @keyframes spin {\n",
              "    0% {\n",
              "      border-color: transparent;\n",
              "      border-bottom-color: var(--fill-color);\n",
              "      border-left-color: var(--fill-color);\n",
              "    }\n",
              "    20% {\n",
              "      border-color: transparent;\n",
              "      border-left-color: var(--fill-color);\n",
              "      border-top-color: var(--fill-color);\n",
              "    }\n",
              "    30% {\n",
              "      border-color: transparent;\n",
              "      border-left-color: var(--fill-color);\n",
              "      border-top-color: var(--fill-color);\n",
              "      border-right-color: var(--fill-color);\n",
              "    }\n",
              "    40% {\n",
              "      border-color: transparent;\n",
              "      border-right-color: var(--fill-color);\n",
              "      border-top-color: var(--fill-color);\n",
              "    }\n",
              "    60% {\n",
              "      border-color: transparent;\n",
              "      border-right-color: var(--fill-color);\n",
              "    }\n",
              "    80% {\n",
              "      border-color: transparent;\n",
              "      border-right-color: var(--fill-color);\n",
              "      border-bottom-color: var(--fill-color);\n",
              "    }\n",
              "    90% {\n",
              "      border-color: transparent;\n",
              "      border-bottom-color: var(--fill-color);\n",
              "    }\n",
              "  }\n",
              "</style>\n",
              "\n",
              "  <script>\n",
              "    async function quickchart(key) {\n",
              "      const quickchartButtonEl =\n",
              "        document.querySelector('#' + key + ' button');\n",
              "      quickchartButtonEl.disabled = true;  // To prevent multiple clicks.\n",
              "      quickchartButtonEl.classList.add('colab-df-spinner');\n",
              "      try {\n",
              "        const charts = await google.colab.kernel.invokeFunction(\n",
              "            'suggestCharts', [key], {});\n",
              "      } catch (error) {\n",
              "        console.error('Error during call to suggestCharts:', error);\n",
              "      }\n",
              "      quickchartButtonEl.classList.remove('colab-df-spinner');\n",
              "      quickchartButtonEl.classList.add('colab-df-quickchart-complete');\n",
              "    }\n",
              "    (() => {\n",
              "      let quickchartButtonEl =\n",
              "        document.querySelector('#df-638d63b0-299e-4be9-af7f-1348f1f39e0f button');\n",
              "      quickchartButtonEl.style.display =\n",
              "        google.colab.kernel.accessAllowed ? 'block' : 'none';\n",
              "    })();\n",
              "  </script>\n",
              "</div>\n",
              "\n",
              "    </div>\n",
              "  </div>\n"
            ],
            "application/vnd.google.colaboratory.intrinsic+json": {
              "type": "dataframe",
              "variable_name": "df"
            }
          },
          "metadata": {},
          "execution_count": 2
        }
      ]
    },
    {
      "cell_type": "markdown",
      "source": [
        "**Your Paradigm** From our class notes on Monday, which paradigm fits your data better? Positivism or Interpretivism? Why does it fit?\n",
        "\n",
        "What data type fits your data better, Qualitative or Quantitative? Why does it fit? *Enter your answer by creating a text/code cell below this question box*"
      ],
      "metadata": {
        "id": "g57BbGLSp7DK"
      }
    },
    {
      "cell_type": "markdown",
      "source": [
        "Answer:\n",
        "* **Positivism** fits better for my data.Because my data is objective and measurable\n",
        "\n",
        "* The dataset is numerical values like parallax, motion.Hence, its **Quantitative data**\n",
        "\n",
        "\n"
      ],
      "metadata": {
        "id": "nGWQqajIVSnP"
      }
    },
    {
      "cell_type": "markdown",
      "source": [
        "**Data Properties** What are some of the properties of your data? Possible properties include, but are not limited to:\n",
        "- dimensionality/size\n",
        "- number of samples\n",
        "- sampling methods\n",
        "- descriptive statistics: range and variance should be possible for ALL datasets, how many more are useful for your data?\n",
        "- features/columns available\n",
        "\n",
        "\n",
        " *Enter your answer by creating a text/code cell below this question box*"
      ],
      "metadata": {
        "id": "x9DTBdLrqlHt"
      }
    },
    {
      "cell_type": "markdown",
      "source": [
        "Answer:\n",
        "* **Dimensionality & Size** The dataset is 2D. Size depends on the the radius I select\n",
        "* **Number of Samples** With radius=1.5 I have 100000 stars"
      ],
      "metadata": {
        "id": "TtjQLhaBWugA"
      }
    },
    {
      "cell_type": "code",
      "source": [
        "print(f\"Number of stars in dataset: {len(df)}\")"
      ],
      "metadata": {
        "colab": {
          "base_uri": "https://localhost:8080/"
        },
        "id": "c_mQb2JGXJ7O",
        "outputId": "a90fc8c2-e1cd-4a97-dee7-19c4ae370a7c"
      },
      "execution_count": 3,
      "outputs": [
        {
          "output_type": "stream",
          "name": "stdout",
          "text": [
            "Number of stars in dataset: 100000\n"
          ]
        }
      ]
    },
    {
      "cell_type": "markdown",
      "source": [
        "**Your Sample** Most data in positivists studies requires a sample frame to be identified. Are you sampling from a population? If so, what is the subset that you have defined by. If not, how was your data extent defined?\n",
        "\n",
        " *Enter your answer by creating a text/code cell below this question box*"
      ],
      "metadata": {
        "id": "FKF5hBxQiUvB"
      }
    },
    {
      "cell_type": "markdown",
      "source": [
        "Answer:\n",
        "* Yes, I'm **sampling from a population** - all stars observed by the Gaia space telescope. Foces on the stars in the **Eagle Nebula region**. Defined it by Spatial Constraint."
      ],
      "metadata": {
        "id": "fPWwXgDLX8KL"
      }
    },
    {
      "cell_type": "markdown",
      "source": [
        "**Variable Types** What are some variables in your data? From Wednesday, are they continuous or discrete? Are they quantitative? Do you have any that are categorical?  \n",
        "\n",
        "From Wednesday, do you have any of the following variables: ratio, interval, ordinal, nominal? Can you find at least 2, if not, why not?\n",
        "\n",
        "*Enter your answer by creating a text/code cell below this question box*"
      ],
      "metadata": {
        "id": "PpmSGX7tz-cq"
      }
    },
    {
      "cell_type": "markdown",
      "source": [
        "Answer:\n",
        "\n",
        "\n",
        "* My dataset have Parallax, Proper Motion, Radial Velocity.All of these are **Continuous** and **Quantitative variables**. All variables in Gaia DR3 are quantitative Their is no Categorical data.\n",
        "\n",
        "* Yes my dataset has **Ratio variables** like: **Parallax** and **Radial Velovity.**\n",
        "* **Interval Variables** like: **Right Ascension**"
      ],
      "metadata": {
        "id": "oWKTt5wYimsw"
      }
    },
    {
      "cell_type": "markdown",
      "source": [
        "**Verification** List the username of the github account you will have linked to our class repo to complete this assignment (your private repo). *Enter your answer by creating a text/code cell below this question box*"
      ],
      "metadata": {
        "id": "1AZTX8iVplbO"
      }
    },
    {
      "cell_type": "markdown",
      "source": [
        "Answer: *ArCHa-x*"
      ],
      "metadata": {
        "id": "jBFR1oe6y2TU"
      }
    },
    {
      "cell_type": "markdown",
      "source": [
        "### Optional: Bibtex Example Area"
      ],
      "metadata": {
        "id": "JZ9qaSRwvZMz"
      }
    },
    {
      "cell_type": "code",
      "source": [
        "%pip install --upgrade --quiet  bibtexparser pymupdf"
      ],
      "metadata": {
        "colab": {
          "base_uri": "https://localhost:8080/"
        },
        "id": "URzENwDEe2qG",
        "outputId": "a5e40379-3b93-44ed-905b-c87d9fb10505"
      },
      "execution_count": null,
      "outputs": [
        {
          "output_type": "stream",
          "name": "stdout",
          "text": [
            "\u001b[?25l     \u001b[90m━━━━━━━━━━━━━━━━━━━━━━━━━━━━━━━━━━━━━━━━\u001b[0m \u001b[32m0.0/55.6 kB\u001b[0m \u001b[31m?\u001b[0m eta \u001b[36m-:--:--\u001b[0m\r\u001b[2K     \u001b[90m━━━━━━━━━━━━━━━━━━━━━━━━━━━━━━━━━━━━━━━━\u001b[0m \u001b[32m55.6/55.6 kB\u001b[0m \u001b[31m1.5 MB/s\u001b[0m eta \u001b[36m0:00:00\u001b[0m\n",
            "\u001b[?25h  Preparing metadata (setup.py) ... \u001b[?25l\u001b[?25hdone\n",
            "\u001b[2K   \u001b[90m━━━━━━━━━━━━━━━━━━━━━━━━━━━━━━━━━━━━━━━━\u001b[0m \u001b[32m20.0/20.0 MB\u001b[0m \u001b[31m49.7 MB/s\u001b[0m eta \u001b[36m0:00:00\u001b[0m\n",
            "\u001b[?25h  Building wheel for bibtexparser (setup.py) ... \u001b[?25l\u001b[?25hdone\n"
          ]
        }
      ]
    },
    {
      "cell_type": "code",
      "source": [
        "!pip install -U langchain-community"
      ],
      "metadata": {
        "colab": {
          "base_uri": "https://localhost:8080/"
        },
        "id": "DNUvXLX9hjA6",
        "outputId": "bee30745-d66d-4bb1-8db2-d97e77e83fac"
      },
      "execution_count": null,
      "outputs": [
        {
          "output_type": "stream",
          "name": "stdout",
          "text": [
            "Collecting langchain-community\n",
            "  Downloading langchain_community-0.3.15-py3-none-any.whl.metadata (2.9 kB)\n",
            "Requirement already satisfied: PyYAML>=5.3 in /usr/local/lib/python3.11/dist-packages (from langchain-community) (6.0.2)\n",
            "Requirement already satisfied: SQLAlchemy<3,>=1.4 in /usr/local/lib/python3.11/dist-packages (from langchain-community) (2.0.37)\n",
            "Requirement already satisfied: aiohttp<4.0.0,>=3.8.3 in /usr/local/lib/python3.11/dist-packages (from langchain-community) (3.11.11)\n",
            "Collecting dataclasses-json<0.7,>=0.5.7 (from langchain-community)\n",
            "  Downloading dataclasses_json-0.6.7-py3-none-any.whl.metadata (25 kB)\n",
            "Collecting httpx-sse<0.5.0,>=0.4.0 (from langchain-community)\n",
            "  Downloading httpx_sse-0.4.0-py3-none-any.whl.metadata (9.0 kB)\n",
            "Requirement already satisfied: langchain<0.4.0,>=0.3.15 in /usr/local/lib/python3.11/dist-packages (from langchain-community) (0.3.15)\n",
            "Requirement already satisfied: langchain-core<0.4.0,>=0.3.31 in /usr/local/lib/python3.11/dist-packages (from langchain-community) (0.3.31)\n",
            "Requirement already satisfied: langsmith<0.4,>=0.1.125 in /usr/local/lib/python3.11/dist-packages (from langchain-community) (0.3.0)\n",
            "Requirement already satisfied: numpy<2,>=1.22.4 in /usr/local/lib/python3.11/dist-packages (from langchain-community) (1.26.4)\n",
            "Collecting pydantic-settings<3.0.0,>=2.4.0 (from langchain-community)\n",
            "  Downloading pydantic_settings-2.7.1-py3-none-any.whl.metadata (3.5 kB)\n",
            "Requirement already satisfied: requests<3,>=2 in /usr/local/lib/python3.11/dist-packages (from langchain-community) (2.32.3)\n",
            "Requirement already satisfied: tenacity!=8.4.0,<10,>=8.1.0 in /usr/local/lib/python3.11/dist-packages (from langchain-community) (9.0.0)\n",
            "Requirement already satisfied: aiohappyeyeballs>=2.3.0 in /usr/local/lib/python3.11/dist-packages (from aiohttp<4.0.0,>=3.8.3->langchain-community) (2.4.4)\n",
            "Requirement already satisfied: aiosignal>=1.1.2 in /usr/local/lib/python3.11/dist-packages (from aiohttp<4.0.0,>=3.8.3->langchain-community) (1.3.2)\n",
            "Requirement already satisfied: attrs>=17.3.0 in /usr/local/lib/python3.11/dist-packages (from aiohttp<4.0.0,>=3.8.3->langchain-community) (24.3.0)\n",
            "Requirement already satisfied: frozenlist>=1.1.1 in /usr/local/lib/python3.11/dist-packages (from aiohttp<4.0.0,>=3.8.3->langchain-community) (1.5.0)\n",
            "Requirement already satisfied: multidict<7.0,>=4.5 in /usr/local/lib/python3.11/dist-packages (from aiohttp<4.0.0,>=3.8.3->langchain-community) (6.1.0)\n",
            "Requirement already satisfied: propcache>=0.2.0 in /usr/local/lib/python3.11/dist-packages (from aiohttp<4.0.0,>=3.8.3->langchain-community) (0.2.1)\n",
            "Requirement already satisfied: yarl<2.0,>=1.17.0 in /usr/local/lib/python3.11/dist-packages (from aiohttp<4.0.0,>=3.8.3->langchain-community) (1.18.3)\n",
            "Collecting marshmallow<4.0.0,>=3.18.0 (from dataclasses-json<0.7,>=0.5.7->langchain-community)\n",
            "  Downloading marshmallow-3.26.0-py3-none-any.whl.metadata (7.3 kB)\n",
            "Collecting typing-inspect<1,>=0.4.0 (from dataclasses-json<0.7,>=0.5.7->langchain-community)\n",
            "  Downloading typing_inspect-0.9.0-py3-none-any.whl.metadata (1.5 kB)\n",
            "Requirement already satisfied: langchain-text-splitters<0.4.0,>=0.3.3 in /usr/local/lib/python3.11/dist-packages (from langchain<0.4.0,>=0.3.15->langchain-community) (0.3.5)\n",
            "Requirement already satisfied: pydantic<3.0.0,>=2.7.4 in /usr/local/lib/python3.11/dist-packages (from langchain<0.4.0,>=0.3.15->langchain-community) (2.10.5)\n",
            "Requirement already satisfied: jsonpatch<2.0,>=1.33 in /usr/local/lib/python3.11/dist-packages (from langchain-core<0.4.0,>=0.3.31->langchain-community) (1.33)\n",
            "Requirement already satisfied: packaging<25,>=23.2 in /usr/local/lib/python3.11/dist-packages (from langchain-core<0.4.0,>=0.3.31->langchain-community) (24.2)\n",
            "Requirement already satisfied: typing-extensions>=4.7 in /usr/local/lib/python3.11/dist-packages (from langchain-core<0.4.0,>=0.3.31->langchain-community) (4.12.2)\n",
            "Requirement already satisfied: httpx<1,>=0.23.0 in /usr/local/lib/python3.11/dist-packages (from langsmith<0.4,>=0.1.125->langchain-community) (0.28.1)\n",
            "Requirement already satisfied: orjson<4.0.0,>=3.9.14 in /usr/local/lib/python3.11/dist-packages (from langsmith<0.4,>=0.1.125->langchain-community) (3.10.15)\n",
            "Requirement already satisfied: requests-toolbelt<2.0.0,>=1.0.0 in /usr/local/lib/python3.11/dist-packages (from langsmith<0.4,>=0.1.125->langchain-community) (1.0.0)\n",
            "Requirement already satisfied: zstandard<0.24.0,>=0.23.0 in /usr/local/lib/python3.11/dist-packages (from langsmith<0.4,>=0.1.125->langchain-community) (0.23.0)\n",
            "Collecting python-dotenv>=0.21.0 (from pydantic-settings<3.0.0,>=2.4.0->langchain-community)\n",
            "  Downloading python_dotenv-1.0.1-py3-none-any.whl.metadata (23 kB)\n",
            "Requirement already satisfied: charset-normalizer<4,>=2 in /usr/local/lib/python3.11/dist-packages (from requests<3,>=2->langchain-community) (3.4.1)\n",
            "Requirement already satisfied: idna<4,>=2.5 in /usr/local/lib/python3.11/dist-packages (from requests<3,>=2->langchain-community) (3.10)\n",
            "Requirement already satisfied: urllib3<3,>=1.21.1 in /usr/local/lib/python3.11/dist-packages (from requests<3,>=2->langchain-community) (2.3.0)\n",
            "Requirement already satisfied: certifi>=2017.4.17 in /usr/local/lib/python3.11/dist-packages (from requests<3,>=2->langchain-community) (2024.12.14)\n",
            "Requirement already satisfied: greenlet!=0.4.17 in /usr/local/lib/python3.11/dist-packages (from SQLAlchemy<3,>=1.4->langchain-community) (3.1.1)\n",
            "Requirement already satisfied: anyio in /usr/local/lib/python3.11/dist-packages (from httpx<1,>=0.23.0->langsmith<0.4,>=0.1.125->langchain-community) (3.7.1)\n",
            "Requirement already satisfied: httpcore==1.* in /usr/local/lib/python3.11/dist-packages (from httpx<1,>=0.23.0->langsmith<0.4,>=0.1.125->langchain-community) (1.0.7)\n",
            "Requirement already satisfied: h11<0.15,>=0.13 in /usr/local/lib/python3.11/dist-packages (from httpcore==1.*->httpx<1,>=0.23.0->langsmith<0.4,>=0.1.125->langchain-community) (0.14.0)\n",
            "Requirement already satisfied: jsonpointer>=1.9 in /usr/local/lib/python3.11/dist-packages (from jsonpatch<2.0,>=1.33->langchain-core<0.4.0,>=0.3.31->langchain-community) (3.0.0)\n",
            "Requirement already satisfied: annotated-types>=0.6.0 in /usr/local/lib/python3.11/dist-packages (from pydantic<3.0.0,>=2.7.4->langchain<0.4.0,>=0.3.15->langchain-community) (0.7.0)\n",
            "Requirement already satisfied: pydantic-core==2.27.2 in /usr/local/lib/python3.11/dist-packages (from pydantic<3.0.0,>=2.7.4->langchain<0.4.0,>=0.3.15->langchain-community) (2.27.2)\n",
            "Collecting mypy-extensions>=0.3.0 (from typing-inspect<1,>=0.4.0->dataclasses-json<0.7,>=0.5.7->langchain-community)\n",
            "  Downloading mypy_extensions-1.0.0-py3-none-any.whl.metadata (1.1 kB)\n",
            "Requirement already satisfied: sniffio>=1.1 in /usr/local/lib/python3.11/dist-packages (from anyio->httpx<1,>=0.23.0->langsmith<0.4,>=0.1.125->langchain-community) (1.3.1)\n",
            "Downloading langchain_community-0.3.15-py3-none-any.whl (2.5 MB)\n",
            "\u001b[2K   \u001b[90m━━━━━━━━━━━━━━━━━━━━━━━━━━━━━━━━━━━━━━━━\u001b[0m \u001b[32m2.5/2.5 MB\u001b[0m \u001b[31m24.8 MB/s\u001b[0m eta \u001b[36m0:00:00\u001b[0m\n",
            "\u001b[?25hDownloading dataclasses_json-0.6.7-py3-none-any.whl (28 kB)\n",
            "Downloading httpx_sse-0.4.0-py3-none-any.whl (7.8 kB)\n",
            "Downloading pydantic_settings-2.7.1-py3-none-any.whl (29 kB)\n",
            "Downloading marshmallow-3.26.0-py3-none-any.whl (50 kB)\n",
            "\u001b[2K   \u001b[90m━━━━━━━━━━━━━━━━━━━━━━━━━━━━━━━━━━━━━━━━\u001b[0m \u001b[32m50.8/50.8 kB\u001b[0m \u001b[31m3.5 MB/s\u001b[0m eta \u001b[36m0:00:00\u001b[0m\n",
            "\u001b[?25hDownloading python_dotenv-1.0.1-py3-none-any.whl (19 kB)\n",
            "Downloading typing_inspect-0.9.0-py3-none-any.whl (8.8 kB)\n",
            "Downloading mypy_extensions-1.0.0-py3-none-any.whl (4.7 kB)\n",
            "Installing collected packages: python-dotenv, mypy-extensions, marshmallow, httpx-sse, typing-inspect, pydantic-settings, dataclasses-json, langchain-community\n",
            "Successfully installed dataclasses-json-0.6.7 httpx-sse-0.4.0 langchain-community-0.3.15 marshmallow-3.26.0 mypy-extensions-1.0.0 pydantic-settings-2.7.1 python-dotenv-1.0.1 typing-inspect-0.9.0\n"
          ]
        }
      ]
    },
    {
      "cell_type": "code",
      "source": [
        "import sys\n",
        "print(sys.path)\n",
        "#sys.path.append('<path_to_langchain_installation>'"
      ],
      "metadata": {
        "colab": {
          "base_uri": "https://localhost:8080/"
        },
        "id": "Y0-nUF55f2tB",
        "outputId": "8b15d9f7-bd27-4aaf-98e5-2cc26f10eaa1"
      },
      "execution_count": null,
      "outputs": [
        {
          "output_type": "stream",
          "name": "stdout",
          "text": [
            "['/content', '/env/python', '/usr/lib/python311.zip', '/usr/lib/python3.11', '/usr/lib/python3.11/lib-dynload', '', '/usr/local/lib/python3.11/dist-packages', '/usr/lib/python3/dist-packages', '/usr/local/lib/python3.11/dist-packages/IPython/extensions', '/usr/local/lib/python3.11/dist-packages/setuptools/_vendor', '/root/.ipython']\n"
          ]
        }
      ]
    },
    {
      "cell_type": "code",
      "source": [
        "from langchain_community.document_loaders import BibtexLoader\n",
        "#from langchain.loaders import DirectoryLoader\n",
        "#from langchain_community.document_loaders import BibtexLoader"
      ],
      "metadata": {
        "id": "YQinRscbe_xC"
      },
      "execution_count": null,
      "outputs": []
    },
    {
      "cell_type": "code",
      "source": [
        "# Create a dummy bibtex file and download a pdf.\n",
        "import urllib.request\n",
        "\n",
        "urllib.request.urlretrieve(\n",
        "    \"https://www.fourmilab.ch/etexts/einstein/specrel/specrel.pdf\", \"einstein1905.pdf\"\n",
        ")\n",
        "\n",
        "bibtex_text = \"\"\"\n",
        "    @article{einstein1915,\n",
        "        title={Die Feldgleichungen der Gravitation},\n",
        "        abstract={Die Grundgleichungen der Gravitation, die ich hier entwickeln werde, wurden von mir in einer Abhandlung: ,,Die formale Grundlage der allgemeinen Relativit{\\\"a}tstheorie`` in den Sitzungsberichten der Preu{\\ss}ischen Akademie der Wissenschaften 1915 ver{\\\"o}ffentlicht.},\n",
        "        author={Einstein, Albert},\n",
        "        journal={Sitzungsberichte der K{\\\"o}niglich Preu{\\ss}ischen Akademie der Wissenschaften},\n",
        "        volume={1915},\n",
        "        number={1},\n",
        "        pages={844--847},\n",
        "        year={1915},\n",
        "        doi={10.1002/andp.19163540702},\n",
        "        link={https://onlinelibrary.wiley.com/doi/abs/10.1002/andp.19163540702},\n",
        "        file={einstein1905.pdf}\n",
        "    }\n",
        "    \"\"\"\n",
        "# save bibtex_text to biblio.bib file\n",
        "with open(\"./biblio.bib\", \"w\") as file:\n",
        "    file.write(bibtex_text)"
      ],
      "metadata": {
        "id": "-Rfhxhcrh6Ez"
      },
      "execution_count": null,
      "outputs": []
    },
    {
      "cell_type": "code",
      "source": [
        "docs = BibtexLoader(\"./biblio.bib\").load()"
      ],
      "metadata": {
        "id": "aIvEjBkyiF2Z"
      },
      "execution_count": null,
      "outputs": []
    },
    {
      "cell_type": "code",
      "source": [
        "docs[0].metadata"
      ],
      "metadata": {
        "colab": {
          "base_uri": "https://localhost:8080/"
        },
        "id": "Yeuff-ItiXqU",
        "outputId": "1528b045-cdda-4448-a096-a720ce0e1ea1"
      },
      "execution_count": null,
      "outputs": [
        {
          "output_type": "execute_result",
          "data": {
            "text/plain": [
              "{'id': 'einstein1915',\n",
              " 'published_year': '1915',\n",
              " 'title': 'Die Feldgleichungen der Gravitation',\n",
              " 'publication': 'Sitzungsberichte der K{\"o}niglich Preu{\\\\ss}ischen Akademie der Wissenschaften',\n",
              " 'authors': 'Einstein, Albert',\n",
              " 'abstract': 'Die Grundgleichungen der Gravitation, die ich hier entwickeln werde, wurden von mir in einer Abhandlung: ,,Die formale Grundlage der allgemeinen Relativit{\"a}tstheorie`` in den Sitzungsberichten der Preu{\\\\ss}ischen Akademie der Wissenschaften 1915 ver{\"o}ffentlicht.',\n",
              " 'url': 'https://doi.org/10.1002/andp.19163540702'}"
            ]
          },
          "metadata": {},
          "execution_count": 18
        }
      ]
    },
    {
      "cell_type": "code",
      "source": [
        "print(docs[0].page_content[:400])  # all pages of the pdf content"
      ],
      "metadata": {
        "colab": {
          "base_uri": "https://localhost:8080/"
        },
        "id": "R3kXOA-4ieOz",
        "outputId": "0afc8618-80fd-401e-cdb2-fe46c0ec0904"
      },
      "execution_count": null,
      "outputs": [
        {
          "output_type": "stream",
          "name": "stdout",
          "text": [
            "ON THE ELECTRODYNAMICS OF MOVING\n",
            "BODIES\n",
            "By A. EINSTEIN\n",
            "June 30, 1905\n",
            "It is known that Maxwell’s electrodynamics—as usually understood at the\n",
            "present time—when applied to moving bodies, leads to asymmetries which do\n",
            "not appear to be inherent in the phenomena. Take, for example, the recipro-\n",
            "cal electrodynamic action of a magnet and a conductor. The observable phe-\n",
            "nomenon here depends only on the r\n"
          ]
        }
      ]
    }
  ]
}